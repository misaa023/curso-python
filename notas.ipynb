{
 "cells": [
  {
   "cell_type": "markdown",
   "metadata": {},
   "source": [
    "## Práctica python 🐍\n",
    "\n",
    "> prácticas con entrada de usuarios input,sentencia if - else - elif , operadores logicos 🧮\n",
    "- < > \n",
    "- == \n",
    "- != \n",
    "- === \n",
    "- And \n",
    "- Or\n",
    "\n",
    "----"
   ]
  },
  {
   "cell_type": "markdown",
   "metadata": {},
   "source": [
    "## Bucles! ♾️\n",
    "\n",
    "> ### Estructura de while\n",
    "\n",
    "\n",
    "    contador = 1\n",
    "    \n",
    "    while contador >= 10:\n",
    "    \tprint(contador)\n",
    "    \tcontador +=1\n",
    "        \n",
    "- en el caso del while utilizamos una variable contador, la cual vamos a ir incrementandola hasta llegar a 10 y salir del bucle.\n",
    "\n",
    "------------\n",
    "\n",
    "\n"
   ]
  },
  {
   "cell_type": "markdown",
   "metadata": {},
   "source": [
    "> ### Estructura de For\n",
    "\n",
    "\n",
    "\n",
    "    cadena = \"esteban\"\n",
    "    \n",
    "     for letra in cadena:\n",
    "     \tprint(letra)\n",
    "\n",
    "- en el caso del For vamos a declarar una variable que es la que vamos a utilizar para guardar el valor y despues mostrarlo, en este caso **letra** es nuestra varable.\n",
    "- tambien utilizamos la palabra **in** para decirle que nuestra variable  **cadena** es la que contiene el valor a recorrer.\n",
    "\n",
    "-----\n"
   ]
  },
  {
   "cell_type": "markdown",
   "metadata": {},
   "source": [
    "## Listas / Array 📃"
   ]
  },
  {
   "cell_type": "markdown",
   "metadata": {},
   "source": [
    "\n",
    "\n",
    "> las listas pueden almacenar varios valores de distintos tipos\n",
    "\n",
    "    lista = ['Esteban', 'Jose', 'Maria', 'Luis',True,False,0,20]\n",
    "\n",
    "\n",
    "> para acceder a un elemento de la lista lo hacemos de la siguiente forma\n",
    "\n",
    "    lista[0]\n",
    "\n",
    ">#### Metodos de Listas\n",
    "> las listas pueden utilizar tanto numero positivos como negativos, los negativos se utilizan para ir del ultimo elemnto al primero\n",
    "\n",
    "\n",
    "- **Largo** de una lista\n",
    "    - el **len()** nos devuelve el numero de elementos de una lista ***len(lista)***\n",
    "    \n",
    "- **Agregar** nuevo elemento a la lista\n",
    "    - el metodo **append()** esto nos permite agregar un nuevo elemento al final de la lista ***lista.append('Carlos')***\n",
    "\n",
    "- **Insertar** un elenmento en una posicion especifica\n",
    "   - el metodo **insert()** esto nos permite insertar un nuevo elemento en una posicion especifica ***lista.insert(1,'Matias')***\n",
    "\n",
    "- **Remover** un elemento de la lista\n",
    "    - el metodo **remove()** esto nos permite eliminar un elemento de la lista ***lista.remove('Matias')***\n",
    "\n",
    "- **Eliminar** el ultimo elemento de la lista\n",
    "    - el metodo **pop()** esto nos permite eliminar el ultimo elemento de la lista ***lista.pop()***\n",
    "\n",
    "- **Eliminar** ***un elemento*** en una posicion especifica\n",
    "    - el metodo **del()** esto nos permite eliminar un elemento en una posicion especifica ***del lista[0]***\n",
    "\n",
    "- **Vaciar** la lista\n",
    "    - el metodo **clear()** esto nos permite vaciar la lista ***lista.clear()***\n",
    "\n",
    "----\n",
    "\n",
    ">#### Rango / Range 🎚️\n",
    "> Sintaxis de **range** (***inicio*** (opcional) , ***fin*** (requerido) , ***incremento*** (opcional))\n",
    "\n",
    "- **La iteracion de rango** se puede utilizar tanto con una lista declarada o utilizando el metodo ***range(numero)*** pasandole un numero\n",
    "    - **Ejemplo de iteracion con el metodo range con su sintaxis**\n"
   ]
  },
  {
   "cell_type": "code",
   "execution_count": null,
   "metadata": {},
   "outputs": [],
   "source": [
    "# ! iterar un rango de 0 a 10 e imprimir los numeros divisible entre 3\n",
    "for i in range(11):\n",
    "\tif i % 3 == 0:\n",
    "\t\tprint(i)"
   ]
  },
  {
   "cell_type": "code",
   "execution_count": null,
   "metadata": {},
   "outputs": [],
   "source": [
    "# ! crear un rango de numeros de 2 a 6 , e imprimirlos almacenando en una variable\n",
    "rango = range(2,7)\n",
    "\n",
    "for i in rango:\n",
    "\tprint(i)"
   ]
  },
  {
   "cell_type": "code",
   "execution_count": null,
   "metadata": {},
   "outputs": [],
   "source": [
    "#! crear un rango de 3 a 10, pero con incremento de 2 en 2, en lugar de 1 en 1 tambien podemos hacerlo con una varible\n",
    "rango = range(3,11,2)\n",
    "\n",
    "for i in rango:\n",
    "\tprint(i)"
   ]
  },
  {
   "cell_type": "markdown",
   "metadata": {},
   "source": [
    "- **Para acceder al rango** de una lista lo hacemos de la siguiente forma ***lista[0:3]*** sin incluir el 3 \n",
    "    - tambien se puede utilizar de esta forma ***lista[:3]*** que arranque del indice 0 al 3 sin incluirlo \n",
    "    - tambien puede utilizarce del indice indicado al final ***lista[2:]***\n",
    "    - **Ejemplo de rango con una lista**"
   ]
  },
  {
   "cell_type": "code",
   "execution_count": null,
   "metadata": {},
   "outputs": [],
   "source": [
    "# con interacion\n",
    "listas = [1, 2, 3, 4, 5, 6, 7, 8, 9, 10]\n",
    "\n",
    "for lista in listas:\n",
    "\tprint(f'El valor de la lista es: {lista}')\n",
    "\n",
    "# sin interacion\n",
    "\n",
    "print(f'el rango de la lista es: {listas[0:6]}')\n",
    "\n"
   ]
  },
  {
   "cell_type": "markdown",
   "metadata": {},
   "source": [
    "> ### Tuplas! 📋\n",
    "> es muy parecida a una lista se puede seguir guardando elemento en orden, pero no se pueden modficar, agregar, eliminar elementos. Las tuplas son reconocdas como inmutables\n",
    "- las tuplas se definen con parentesis ()"
   ]
  },
  {
   "cell_type": "code",
   "execution_count": null,
   "metadata": {},
   "outputs": [],
   "source": [
    "#Definimos una tupla\n",
    "\n",
    "tupla = ()\n",
    "\n",
    "# ejemplo con frutas\n",
    "frutas = ('Naranja','Platanos',',Manzana')\n",
    "\n",
    "# largo de una tupla\n",
    "print(f'la cantidad de frutas diferentes es de: {len(frutas)}')\n",
    "\n",
    "# acceder a un elemento\n",
    "print(frutas[0])\n",
    "\n",
    "# navegacion inversa\n",
    "\n",
    "print(frutas[-1])\n",
    "\n",
    "# acceder a rango / sin incuir el ultimo indice\n",
    "print(frutas[0:2])\n",
    "\n"
   ]
  },
  {
   "cell_type": "markdown",
   "metadata": {},
   "source": [
    "> #### Recorrer tuplas"
   ]
  },
  {
   "cell_type": "code",
   "execution_count": null,
   "metadata": {},
   "outputs": [],
   "source": [
    "# recorrer una tupla / le agregamos un end al final del print para cambiar lo que imprime por defecto q es un salto de linea \\n\n",
    "\n",
    "for fruta in frutas:\n",
    "\tprint(fruta,end=' - ')"
   ]
  },
  {
   "cell_type": "markdown",
   "metadata": {},
   "source": [
    "> #### Conversion de tupla a lista / lista a tupla \n",
    "- La forma de poder modificar una tupla es convirtiendola en una lista y volver a convertila en tupla, para esto hay dos metodos.\n",
    "\t- metodo ***list()*** este metodo nos permite convertir una tupla en una lista.\n",
    "\t- metodo ***tuple()*** este metodo nos permite convertir una lista en una tupla."
   ]
  },
  {
   "cell_type": "code",
   "execution_count": null,
   "metadata": {},
   "outputs": [],
   "source": [
    "# declaracion de mi tupla frutas\n",
    "frutas = ('Naranja','Platanos',',Manzana')\n",
    "\n",
    "# conversion de tupla a lista\n",
    "frutaLista = list(frutas)\n",
    "\n",
    "# modifico mi primera fruta\n",
    "frutaLista[0] = 'Pera'\n",
    "\n",
    "# conversion de lista a tupla\n",
    "frutas = tuple(frutaLista)\n",
    "\n",
    "# elimiar tupla por completo\n",
    "\n",
    "del frutas"
   ]
  },
  {
   "cell_type": "code",
   "execution_count": null,
   "metadata": {},
   "outputs": [],
   "source": [
    "# TODO : Ejercicio tupla con lista\n",
    "\n",
    "# ? Dada la siguiente tupla, crear una lista que solo incluya los numeros menores a 5 \n",
    "\n",
    "tupla = (13,1,8,3,2,5,8)\n",
    "lista =[]\n",
    "\n",
    "for num in tupla:\n",
    "\tif num < 5:\n",
    "\t\tlista.append(num)\n",
    "\n",
    "print('lista con numeros menores a 5 :',lista)\n"
   ]
  },
  {
   "cell_type": "markdown",
   "metadata": {},
   "source": [
    "> #### SET 📝\n",
    "> - un set no mantiene un orden \n",
    "> - no permite almacenar elementos duplicados \n",
    "> - no permite modificaciones \n",
    "> - se puede agregar o eliminar elementos \n",
    "> - no tiene indice"
   ]
  },
  {
   "cell_type": "code",
   "execution_count": 3,
   "metadata": {},
   "outputs": [
    {
     "name": "stdout",
     "output_type": "stream",
     "text": [
      "{'Jupuiter', 'Venus', 'Marte'}\n"
     ]
    }
   ],
   "source": [
    "# definir un set\n",
    "\n",
    "planetas = {'Marte','Jupuiter','Venus'}\n",
    "\n",
    "print(planetas)"
   ]
  },
  {
   "cell_type": "code",
   "execution_count": 4,
   "metadata": {},
   "outputs": [
    {
     "name": "stdout",
     "output_type": "stream",
     "text": [
      "True\n"
     ]
    }
   ],
   "source": [
    "# revisar si un elemento esta presente en un set\n",
    "\n",
    "print('Marte' in planetas)"
   ]
  },
  {
   "cell_type": "code",
   "execution_count": 6,
   "metadata": {},
   "outputs": [
    {
     "name": "stdout",
     "output_type": "stream",
     "text": [
      "{'Tierra', 'Jupuiter', 'Venus', 'Marte'}\n"
     ]
    }
   ],
   "source": [
    "#Agregar mas elementos / con el metodo add() agregamos elementos en un set\n",
    "\n",
    "planetas.add('Tierra')\n",
    "print(planetas)"
   ]
  },
  {
   "cell_type": "code",
   "execution_count": 7,
   "metadata": {},
   "outputs": [
    {
     "name": "stdout",
     "output_type": "stream",
     "text": [
      "{'Jupuiter', 'Venus', 'Marte'}\n"
     ]
    }
   ],
   "source": [
    "# Eliminar elemento en set\n",
    "\n",
    "planetas.remove('Tierra')\n",
    "print(planetas)"
   ]
  },
  {
   "cell_type": "markdown",
   "metadata": {},
   "source": [
    "# Diccionarios 📗\n",
    "> los diccionarios estan compuestos por dos elementos , una llave y un valor. Los diccionarios no tienen indice "
   ]
  },
  {
   "cell_type": "code",
   "execution_count": 8,
   "metadata": {},
   "outputs": [
    {
     "name": "stdout",
     "output_type": "stream",
     "text": [
      "{'IDE': 'Integrated Development Enviroment', 'OOP': 'Object Oriented Programing', 'DBMS': 'Data Base Management System'}\n"
     ]
    }
   ],
   "source": [
    "# definir diccionario\n",
    "\n",
    "diccionario = {\n",
    "\t'IDE':'Integrated Development Enviroment',\n",
    "\t'OOP': 'Object Oriented Programing',\n",
    "\t'DBMS': 'Data Base Management System'\n",
    "}\n",
    "\n",
    "print(diccionario)"
   ]
  },
  {
   "cell_type": "code",
   "execution_count": 9,
   "metadata": {},
   "outputs": [
    {
     "name": "stdout",
     "output_type": "stream",
     "text": [
      "Integrated Development Enviroment\n"
     ]
    }
   ],
   "source": [
    "# acceder a un elemento\n",
    "\n",
    "print(diccionario['IDE'])"
   ]
  },
  {
   "cell_type": "code",
   "execution_count": 10,
   "metadata": {},
   "outputs": [
    {
     "name": "stdout",
     "output_type": "stream",
     "text": [
      "Object Oriented Programing\n"
     ]
    }
   ],
   "source": [
    "# otra forma de recuperar elemento con el metodo get()\n",
    "\n",
    "print(diccionario.get('OOP'))"
   ]
  },
  {
   "cell_type": "code",
   "execution_count": 11,
   "metadata": {},
   "outputs": [
    {
     "name": "stdout",
     "output_type": "stream",
     "text": [
      "integrated development enviroment 2\n"
     ]
    }
   ],
   "source": [
    "# modificar elemento\n",
    "\n",
    "diccionario['IDE'] ='integrated development enviroment 2'\n",
    "print(diccionario['IDE'])\n"
   ]
  },
  {
   "cell_type": "code",
   "execution_count": 12,
   "metadata": {},
   "outputs": [
    {
     "name": "stdout",
     "output_type": "stream",
     "text": [
      "IDE\n",
      "OOP\n",
      "DBMS\n"
     ]
    }
   ],
   "source": [
    "# recorrer elementos solo a la clave\n",
    "\n",
    "for termino in diccionario:\n",
    "\tprint(termino)"
   ]
  },
  {
   "cell_type": "code",
   "execution_count": 15,
   "metadata": {},
   "outputs": [
    {
     "name": "stdout",
     "output_type": "stream",
     "text": [
      "IDE integrated development enviroment 2\n",
      "OOP Object Oriented Programing\n",
      "DBMS Data Base Management System\n"
     ]
    }
   ],
   "source": [
    "# recorrer elemento accediendo a la clave y el valor / necesitamos usar el metodo items() para que nos permita devolver ambos valores\n",
    "\n",
    "for termino,valor in diccionario.items():\n",
    "\tprint(termino, valor)"
   ]
  },
  {
   "cell_type": "code",
   "execution_count": 17,
   "metadata": {},
   "outputs": [
    {
     "name": "stdout",
     "output_type": "stream",
     "text": [
      "IDE\n",
      "OOP\n",
      "DBMS\n"
     ]
    }
   ],
   "source": [
    "# para recuperar los terminos \n",
    "\n",
    "for termino in diccionario.keys():\n",
    "\tprint(termino)"
   ]
  },
  {
   "cell_type": "code",
   "execution_count": 18,
   "metadata": {},
   "outputs": [
    {
     "name": "stdout",
     "output_type": "stream",
     "text": [
      "integrated development enviroment 2\n",
      "Object Oriented Programing\n",
      "Data Base Management System\n"
     ]
    }
   ],
   "source": [
    "# para recuperar los valores\n",
    "\n",
    "for valor in diccionario.values():\n",
    "\tprint(valor)"
   ]
  },
  {
   "cell_type": "code",
   "execution_count": 19,
   "metadata": {},
   "outputs": [
    {
     "name": "stdout",
     "output_type": "stream",
     "text": [
      "True\n"
     ]
    }
   ],
   "source": [
    "# comprobar si existe un elemento\n",
    "print('IDE' in diccionario)"
   ]
  },
  {
   "cell_type": "code",
   "execution_count": 20,
   "metadata": {},
   "outputs": [
    {
     "name": "stdout",
     "output_type": "stream",
     "text": [
      "{'IDE': 'integrated development enviroment 2', 'OOP': 'Object Oriented Programing', 'DBMS': 'Data Base Management System', 'PK': 'Primary key'}\n"
     ]
    }
   ],
   "source": [
    "# agregar elemento\n",
    "# !! cuando agregamos un valor nuevo, si ya existe lo reemplaza con el nuevo valor!\n",
    "\n",
    "diccionario['PK'] = 'Primary key'\n",
    "print(diccionario)"
   ]
  },
  {
   "cell_type": "code",
   "execution_count": 21,
   "metadata": {},
   "outputs": [
    {
     "name": "stdout",
     "output_type": "stream",
     "text": [
      "{'IDE': 'integrated development enviroment 2', 'OOP': 'Object Oriented Programing', 'DBMS': 'Data Base Management System'}\n"
     ]
    }
   ],
   "source": [
    "# remover elemento \n",
    "\n",
    "diccionario.pop('PK')\n",
    "print(diccionario)"
   ]
  },
  {
   "cell_type": "code",
   "execution_count": 22,
   "metadata": {},
   "outputs": [
    {
     "name": "stdout",
     "output_type": "stream",
     "text": [
      "{}\n"
     ]
    }
   ],
   "source": [
    "# limpiar diccionario\n",
    "diccionario.clear()\n",
    "print(diccionario)"
   ]
  },
  {
   "cell_type": "code",
   "execution_count": 23,
   "metadata": {},
   "outputs": [
    {
     "ename": "NameError",
     "evalue": "name 'diccionario' is not defined",
     "output_type": "error",
     "traceback": [
      "\u001b[1;31m---------------------------------------------------------------------------\u001b[0m",
      "\u001b[1;31mNameError\u001b[0m                                 Traceback (most recent call last)",
      "Cell \u001b[1;32mIn[23], line 3\u001b[0m\n\u001b[0;32m      1\u001b[0m \u001b[38;5;66;03m# eliminar diccionario\u001b[39;00m\n\u001b[0;32m      2\u001b[0m \u001b[38;5;28;01mdel\u001b[39;00m diccionario\n\u001b[1;32m----> 3\u001b[0m \u001b[38;5;28mprint\u001b[39m(\u001b[43mdiccionario\u001b[49m)\n",
      "\u001b[1;31mNameError\u001b[0m: name 'diccionario' is not defined"
     ]
    }
   ],
   "source": [
    "# eliminar diccionario\n",
    "del diccionario\n",
    "print(diccionario)"
   ]
  },
  {
   "cell_type": "markdown",
   "metadata": {},
   "source": [
    "----"
   ]
  },
  {
   "cell_type": "markdown",
   "metadata": {},
   "source": [
    "# Funciones ⚙️🗜️"
   ]
  },
  {
   "cell_type": "markdown",
   "metadata": {},
   "source": [
    "- **Las funciones** son un bloque de codigo que vamos a llamar ***N*** cantidades de veces.\n",
    "\n",
    "> las funciones se definene de la siguiente manera."
   ]
  },
  {
   "cell_type": "code",
   "execution_count": 24,
   "metadata": {},
   "outputs": [
    {
     "name": "stdout",
     "output_type": "stream",
     "text": [
      "desde mi funcion\n"
     ]
    }
   ],
   "source": [
    "# definir una funcion\n",
    "\n",
    "def mi_funcion():\n",
    "\tprint('desde mi funcion')\n",
    "\n",
    "# llamada a la funcion\n",
    "mi_funcion()"
   ]
  },
  {
   "cell_type": "markdown",
   "metadata": {},
   "source": [
    "> #### **Las funciones** reciben tanto ***parametros*** como ***argumentos***\n",
    "> - **Los parametros** son las ***variables*** que vamos a declarar dentro de los parentesis\n",
    "> - **Los argumentos** son los ***valores*** que le vamos a enviar a la funcion"
   ]
  },
  {
   "cell_type": "code",
   "execution_count": 25,
   "metadata": {},
   "outputs": [
    {
     "name": "stdout",
     "output_type": "stream",
     "text": [
      "\n",
      "\t\t\tNombre: Esteban\n",
      "\t\t\tApellido: Madrid\n",
      "\t\t\tDNI: 34769751\n",
      "\t\t\t\n"
     ]
    }
   ],
   "source": [
    "# le paso los parametros a mi funcion\n",
    "def mis_datos(nombre,apellido,dni):\n",
    "\tprint(f'''\n",
    "\t\t\tNombre: {nombre}\n",
    "\t\t\tApellido: {apellido}\n",
    "\t\t\tDNI: {dni}\n",
    "\t\t\t''')\n",
    "\n",
    "# le paso los argumento(valores) a mi funcion\n",
    "mis_datos('Esteban','Madrid',34769751)"
   ]
  },
  {
   "cell_type": "markdown",
   "metadata": {},
   "source": [
    "> funciones con **return**\n",
    "- La palabra reserva ***return*** me permite devolver el valor de una funcion"
   ]
  },
  {
   "cell_type": "code",
   "execution_count": 3,
   "metadata": {},
   "outputs": [
    {
     "name": "stdout",
     "output_type": "stream",
     "text": [
      "el resultado de la suma es:  7\n"
     ]
    }
   ],
   "source": [
    "#Suma de dos numeros\n",
    "\n",
    "def sumar(a,b):\n",
    "\treturn a + b\n",
    "\n",
    "# guardo la funcion en una variable para imprimirla\n",
    "resultado = sumar(5,2)\n",
    "\n",
    "print(f'el resultado de la suma es: ', resultado)"
   ]
  },
  {
   "cell_type": "code",
   "execution_count": 4,
   "metadata": {},
   "outputs": [
    {
     "name": "stdout",
     "output_type": "stream",
     "text": [
      "el resultado de la suma es: 8\n"
     ]
    }
   ],
   "source": [
    "# podemos optar por no usar una variable para guardar el resultado y hacerla directamente en el print de la siguiente manera\n",
    "\n",
    "#Suma de dos numeros\n",
    "\n",
    "def sumar(a,b):\n",
    "\treturn a + b\n",
    "\n",
    "print(f'el resultado de la suma es: {sumar(5,3)}')"
   ]
  },
  {
   "cell_type": "markdown",
   "metadata": {},
   "source": [
    "> valor por default en los parametros de una funcioon"
   ]
  },
  {
   "cell_type": "code",
   "execution_count": 7,
   "metadata": {},
   "outputs": [
    {
     "name": "stdout",
     "output_type": "stream",
     "text": [
      "el resultado de la suma por defaul: 3\n",
      "el resultado de la suma sobreescrita: 8\n"
     ]
    }
   ],
   "source": [
    "# le asignamos valores a los parametros por default\n",
    "\n",
    "def sumar(a=1,b=2):\n",
    "\treturn a + b\n",
    "\n",
    "# imprimimos con los valores por defualt\n",
    "print(f'el resultado de la suma por defaul: {sumar()}')\n",
    "\n",
    "# en este segundo print cuando pasamos el argumento sobreescribimos el valor por default de la funcion\n",
    "print(f'el resultado de la suma sobreescrita: {sumar(5,3)}')"
   ]
  }
 ],
 "metadata": {
  "kernelspec": {
   "display_name": "Python 3",
   "language": "python",
   "name": "python3"
  },
  "language_info": {
   "codemirror_mode": {
    "name": "ipython",
    "version": 3
   },
   "file_extension": ".py",
   "mimetype": "text/x-python",
   "name": "python",
   "nbconvert_exporter": "python",
   "pygments_lexer": "ipython3",
   "version": "3.12.4"
  }
 },
 "nbformat": 4,
 "nbformat_minor": 2
}
