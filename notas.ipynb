{
 "cells": [
  {
   "cell_type": "markdown",
   "metadata": {},
   "source": [
    "## Práctica python 🐍\n",
    "\n",
    "> prácticas con entrada de usuarios input,sentencia if - else - elif , operadores logicos 🧮\n",
    "- < > \n",
    "- == \n",
    "- != \n",
    "- === \n",
    "- And \n",
    "- Or\n",
    "\n",
    "----"
   ]
  },
  {
   "cell_type": "markdown",
   "metadata": {},
   "source": [
    "## Bucles! ♾️\n",
    "\n",
    "> ### Estructura de while\n",
    "\n",
    "\n",
    "    contador = 1\n",
    "    \n",
    "    while contador >= 10:\n",
    "    \tprint(contador)\n",
    "    \tcontador +=1\n",
    "        \n",
    "- En el caso del while utilizamos una variable contador, la cual vamos a ir incrementando hasta llegar a 10 y salir del bucle.\n",
    "\n",
    "------------\n",
    "\n",
    "\n"
   ]
  },
  {
   "cell_type": "markdown",
   "metadata": {},
   "source": [
    "> ### Estructura de For\n",
    "\n",
    "\n",
    "\n",
    "    cadena = \"esteban\"\n",
    "    \n",
    "     for letra in cadena:\n",
    "     \tprint(letra)\n",
    "\n",
    "- En el caso del For vamos a declarar una variable que es la que vamos a utilizar para guardar el valor y después mostrarlo, en este caso **letra** es nuestra variable..\n",
    "- También utilizamos la palabra **in** para decirle que nuestra variable **cadena** es la que contiene el valor a recorrer.\n",
    "\n",
    "-----\n"
   ]
  },
  {
   "cell_type": "markdown",
   "metadata": {},
   "source": [
    "## Listas / Array 📃"
   ]
  },
  {
   "cell_type": "markdown",
   "metadata": {},
   "source": [
    "\n",
    "\n",
    "> las listas pueden almacenar varios valores de distintos tipos\n",
    "\n",
    "    lista = ['Esteban', 'Jose', 'Maria', 'Luis',True,False,0,20]\n",
    "\n",
    "\n",
    "> para acceder a un elemento de la lista lo hacemos de la siguiente forma\n",
    "\n",
    "    lista[0]\n",
    "\n",
    ">#### Métodos de Listas\n",
    "> las listas pueden utilizar tanto número positivos como negativos, los negativos se utilizan para ir del último elemento al primero\n",
    "\n",
    "\n",
    "- **Largo** de una lista\n",
    "    - el **len()** nos devuelve el numero de elementos de una lista ***len(lista)***\n",
    "    \n",
    "- **Agregar** nuevo elemento a la lista\n",
    "    - el método **append()** esto nos permite agregar un nuevo elemento al final de la lista ***lista.append('Carlos')***\n",
    "\n",
    "- **Insertar** un elemento en una posición específica\n",
    "   - el método **insert()** esto nos permite insertar un nuevo elemento en una posición específica ***lista.insert(1,'Matias')***\n",
    "\n",
    "- **Remover** un elemento de la lista\n",
    "    - el método **remove()** esto nos permite eliminar un elemento de la lista ***lista.remove('Matias')***\n",
    "\n",
    "- **Eliminar** el último elemento de la lista\n",
    "    - el método **pop()** esto nos permite eliminar el último elemento de la lista ***lista.pop()***\n",
    "\n",
    "- **Eliminar** ***un elemento*** en una  posición específica\n",
    "    - el método **del()** esto nos permite eliminar un elemento en una  posición específica ***del lista[0]***\n",
    "\n",
    "- **Vaciar** la lista\n",
    "    - el método **clear()** esto nos permite vaciar la lista ***lista.clear()***\n",
    "\n",
    "----\n",
    "\n",
    ">#### Rango / Range 🎚️\n",
    "> Sintaxis de **range** (***inicio*** (opcional) , ***fin*** (requerido) , ***incremento*** (opcional))\n",
    "\n",
    "- **La iteración de rango** se puede utilizar tanto con una lista declarada o utilizando el método ***range(numero)*** pasandole un número\n",
    "    - **Ejemplo de iteración con el método range con su sintaxis**\n"
   ]
  },
  {
   "cell_type": "code",
   "execution_count": null,
   "metadata": {},
   "outputs": [],
   "source": [
    "# ! iterar un rango de 0 a 10 e imprimir los números divisible entre 3\n",
    "for i in range(11):\n",
    "\tif i % 3 == 0:\n",
    "\t\tprint(i)"
   ]
  },
  {
   "cell_type": "code",
   "execution_count": null,
   "metadata": {},
   "outputs": [],
   "source": [
    "# ! crear un rango de números de 2 a 6 , e imprimirlos almacenando en una variable\n",
    "rango = range(2,7)\n",
    "\n",
    "for i in rango:\n",
    "\tprint(i)"
   ]
  },
  {
   "cell_type": "code",
   "execution_count": null,
   "metadata": {},
   "outputs": [],
   "source": [
    "#! crear un rango de 3 a 10, pero con incremento de 2 en 2, en lugar de 1 en 1 también podemos hacerlo con una variable\n",
    "rango = range(3,11,2)\n",
    "\n",
    "for i in rango:\n",
    "\tprint(i)"
   ]
  },
  {
   "cell_type": "markdown",
   "metadata": {},
   "source": [
    "- **Para acceder al rango** de una lista lo hacemos de la siguiente forma ***lista[0:3]*** sin incluir el 3 \n",
    "    - también se puede utilizar de esta forma ***lista[:3]*** que arranque del índice 0 al 3 sin incluirlo \n",
    "    - también puede utilizarse del índice indicado al final ***lista[2:]***\n",
    "    - **Ejemplo de rango con una lista**"
   ]
  },
  {
   "cell_type": "code",
   "execution_count": null,
   "metadata": {},
   "outputs": [],
   "source": [
    "# con iteración\n",
    "listas = [1, 2, 3, 4, 5, 6, 7, 8, 9, 10]\n",
    "\n",
    "for lista in listas:\n",
    "\tprint(f'El valor de la lista es: {lista}')\n",
    "\n",
    "# sin iteración\n",
    "\n",
    "print(f'el rango de la lista es: {listas[0:6]}')\n",
    "\n"
   ]
  },
  {
   "cell_type": "markdown",
   "metadata": {},
   "source": [
    "> ### Tuplas! 📋\n",
    "> Es muy parecida a una lista se puede seguir guardando elemento en orden, pero no se pueden modificar, agregar, eliminar elementos. Las tuplas son reconocidas como inmutables\n",
    "- las tuplas se definen con paréntesis ()"
   ]
  },
  {
   "cell_type": "code",
   "execution_count": null,
   "metadata": {},
   "outputs": [],
   "source": [
    "#Definimos una tupla\n",
    "\n",
    "tupla = ()\n",
    "\n",
    "# ejemplo con frutas\n",
    "frutas = ('Naranja','Platanos',',Manzana')\n",
    "\n",
    "# largo de una tupla\n",
    "print(f'la cantidad de frutas diferentes es de: {len(frutas)}')\n",
    "\n",
    "# acceder a un elemento\n",
    "print(frutas[0])\n",
    "\n",
    "# navegación inversa\n",
    "\n",
    "print(frutas[-1])\n",
    "\n",
    "# acceder a rango / sin incluir el último índice\n",
    "print(frutas[0:2])\n",
    "\n"
   ]
  },
  {
   "cell_type": "markdown",
   "metadata": {},
   "source": [
    "> #### Recorrer tuplas"
   ]
  },
  {
   "cell_type": "code",
   "execution_count": null,
   "metadata": {},
   "outputs": [],
   "source": [
    "# recorrer una tupla / le agregamos un end al final del print para cambiar lo que imprime por defecto q es un salto de línea\\n\n",
    "\n",
    "for fruta in frutas:\n",
    "\tprint(fruta,end=' - ')"
   ]
  },
  {
   "cell_type": "markdown",
   "metadata": {},
   "source": [
    "> #### Conversión de tupla a lista / lista a tupla \n",
    "- La forma de poder modificar una tupla es convirtiéndola en una lista y volver a convertirla en tupla, para esto hay dos métodos.\n",
    "\t- método ***list()*** este método nos permite convertir una tupla en una lista.\n",
    "\t- método ***tuple()*** este método nos permite convertir una lista en una tupla."
   ]
  },
  {
   "cell_type": "code",
   "execution_count": null,
   "metadata": {},
   "outputs": [],
   "source": [
    "# declaración de mi tupla frutas\n",
    "frutas = ('Naranja','Platanos',',Manzana')\n",
    "\n",
    "# conversión de tupla a lista\n",
    "frutaLista = list(frutas)\n",
    "\n",
    "# modifico mi primera fruta\n",
    "frutaLista[0] = 'Pera'\n",
    "\n",
    "# conversión de lista a tupla\n",
    "frutas = tuple(frutaLista)\n",
    "\n",
    "# eliminar tupla por completo\n",
    "\n",
    "del frutas"
   ]
  },
  {
   "cell_type": "code",
   "execution_count": null,
   "metadata": {},
   "outputs": [],
   "source": [
    "# TODO : Ejercicio tupla con lista\n",
    "\n",
    "# ? Dada la siguiente tupla, crear una lista que solo incluya los números menores a 5 \n",
    "\n",
    "tupla = (13,1,8,3,2,5,8)\n",
    "lista =[]\n",
    "\n",
    "for num in tupla:\n",
    "\tif num < 5:\n",
    "\t\tlista.append(num)\n",
    "\n",
    "print('lista con nnúmeros menores a 5 :',lista)\n"
   ]
  },
  {
   "cell_type": "markdown",
   "metadata": {},
   "source": [
    "> #### SET 📝\n",
    "> - un set no mantiene un orden \n",
    "> - no permite almacenar elementos duplicados \n",
    "> - no permite modificaciones \n",
    "> - se puede agregar o eliminar elementos \n",
    "> - no tiene índice"
   ]
  },
  {
   "cell_type": "code",
   "execution_count": 3,
   "metadata": {},
   "outputs": [
    {
     "name": "stdout",
     "output_type": "stream",
     "text": [
      "{'Jupuiter', 'Venus', 'Marte'}\n"
     ]
    }
   ],
   "source": [
    "# definir un set\n",
    "\n",
    "planetas = {'Marte','Jupuiter','Venus'}\n",
    "\n",
    "print(planetas)"
   ]
  },
  {
   "cell_type": "code",
   "execution_count": 4,
   "metadata": {},
   "outputs": [
    {
     "name": "stdout",
     "output_type": "stream",
     "text": [
      "True\n"
     ]
    }
   ],
   "source": [
    "# revisar si un elemento está presente en un set\n",
    "\n",
    "print('Marte' in planetas)"
   ]
  },
  {
   "cell_type": "code",
   "execution_count": 6,
   "metadata": {},
   "outputs": [
    {
     "name": "stdout",
     "output_type": "stream",
     "text": [
      "{'Tierra', 'Jupuiter', 'Venus', 'Marte'}\n"
     ]
    }
   ],
   "source": [
    "#Agregar más elementos / con el método add() agregamos elementos en un set\n",
    "\n",
    "planetas.add('Tierra')\n",
    "print(planetas)"
   ]
  },
  {
   "cell_type": "code",
   "execution_count": 7,
   "metadata": {},
   "outputs": [
    {
     "name": "stdout",
     "output_type": "stream",
     "text": [
      "{'Jupuiter', 'Venus', 'Marte'}\n"
     ]
    }
   ],
   "source": [
    "# Eliminar elemento en set\n",
    "\n",
    "planetas.remove('Tierra')\n",
    "print(planetas)"
   ]
  },
  {
   "cell_type": "markdown",
   "metadata": {},
   "source": [
    "# Diccionarios 📗\n",
    "> Los diccionarios están compuestos por dos elementos , una llave y un valor. Los diccionarios no tienen índice "
   ]
  },
  {
   "cell_type": "code",
   "execution_count": 21,
   "metadata": {},
   "outputs": [
    {
     "name": "stdout",
     "output_type": "stream",
     "text": [
      "{'IDE': 'Integrated Development Enviroment', 'OOP': 'Object Oriented Programing', 'DBMS': 'Data Base Management System'}\n"
     ]
    }
   ],
   "source": [
    "# definir diccionario\n",
    "\n",
    "diccionario = {\n",
    "\t'IDE':'Integrated Development Enviroment',\n",
    "\t'OOP': 'Object Oriented Programing',\n",
    "\t'DBMS': 'Data Base Management System'\n",
    "}\n",
    "\n",
    "print(diccionario)"
   ]
  },
  {
   "cell_type": "code",
   "execution_count": 22,
   "metadata": {},
   "outputs": [
    {
     "name": "stdout",
     "output_type": "stream",
     "text": [
      "Integrated Development Enviroment\n"
     ]
    }
   ],
   "source": [
    "# acceder a un elemento\n",
    "\n",
    "print(diccionario['IDE'])"
   ]
  },
  {
   "cell_type": "code",
   "execution_count": 23,
   "metadata": {},
   "outputs": [
    {
     "name": "stdout",
     "output_type": "stream",
     "text": [
      "Object Oriented Programing\n"
     ]
    }
   ],
   "source": [
    "# otra forma de recuperar elemento con el método get()\n",
    "\n",
    "print(diccionario.get('OOP'))"
   ]
  },
  {
   "cell_type": "code",
   "execution_count": 24,
   "metadata": {},
   "outputs": [
    {
     "name": "stdout",
     "output_type": "stream",
     "text": [
      "integrated development enviroment 2\n"
     ]
    }
   ],
   "source": [
    "# modificar elemento\n",
    "\n",
    "diccionario['IDE'] ='integrated development enviroment 2'\n",
    "print(diccionario['IDE'])\n"
   ]
  },
  {
   "cell_type": "code",
   "execution_count": 25,
   "metadata": {},
   "outputs": [
    {
     "name": "stdout",
     "output_type": "stream",
     "text": [
      "IDE\n",
      "OOP\n",
      "DBMS\n"
     ]
    }
   ],
   "source": [
    "# recorrer elementos solo a la clave\n",
    "\n",
    "for termino in diccionario:\n",
    "\tprint(termino)"
   ]
  },
  {
   "cell_type": "code",
   "execution_count": 26,
   "metadata": {},
   "outputs": [
    {
     "name": "stdout",
     "output_type": "stream",
     "text": [
      "IDE integrated development enviroment 2\n",
      "OOP Object Oriented Programing\n",
      "DBMS Data Base Management System\n"
     ]
    }
   ],
   "source": [
    "# recorrer elemento accediendo a la clave y el valor / necesitamos usar el método items() para que nos permita devolver ambos valores\n",
    "\n",
    "for termino,valor in diccionario.items():\n",
    "\tprint(termino, valor)"
   ]
  },
  {
   "cell_type": "code",
   "execution_count": 27,
   "metadata": {},
   "outputs": [
    {
     "name": "stdout",
     "output_type": "stream",
     "text": [
      "IDE\n",
      "OOP\n",
      "DBMS\n"
     ]
    }
   ],
   "source": [
    "# para recuperar los terminos \n",
    "\n",
    "for termino in diccionario.keys():\n",
    "\tprint(termino)"
   ]
  },
  {
   "cell_type": "code",
   "execution_count": 28,
   "metadata": {},
   "outputs": [
    {
     "name": "stdout",
     "output_type": "stream",
     "text": [
      "integrated development enviroment 2\n",
      "Object Oriented Programing\n",
      "Data Base Management System\n"
     ]
    }
   ],
   "source": [
    "# para recuperar los valores\n",
    "\n",
    "for valor in diccionario.values():\n",
    "\tprint(valor)"
   ]
  },
  {
   "cell_type": "code",
   "execution_count": 29,
   "metadata": {},
   "outputs": [
    {
     "name": "stdout",
     "output_type": "stream",
     "text": [
      "True\n"
     ]
    }
   ],
   "source": [
    "# comprobar si existe un elemento\n",
    "print('IDE' in diccionario)"
   ]
  },
  {
   "cell_type": "code",
   "execution_count": 30,
   "metadata": {},
   "outputs": [
    {
     "name": "stdout",
     "output_type": "stream",
     "text": [
      "{'IDE': 'integrated development enviroment 2', 'OOP': 'Object Oriented Programing', 'DBMS': 'Data Base Management System', 'PK': 'Primary key'}\n"
     ]
    }
   ],
   "source": [
    "# agregar elemento\n",
    "# !! cuando agregamos un valor nuevo, si ya existe lo reemplaza con el nuevo valor!\n",
    "\n",
    "diccionario['PK'] = 'Primary key'\n",
    "print(diccionario)"
   ]
  },
  {
   "cell_type": "code",
   "execution_count": 31,
   "metadata": {},
   "outputs": [
    {
     "name": "stdout",
     "output_type": "stream",
     "text": [
      "{'IDE': 'integrated development enviroment 2', 'OOP': 'Object Oriented Programing', 'DBMS': 'Data Base Management System'}\n"
     ]
    }
   ],
   "source": [
    "# remover elemento \n",
    "\n",
    "diccionario.pop('PK')\n",
    "print(diccionario)"
   ]
  },
  {
   "cell_type": "code",
   "execution_count": 32,
   "metadata": {},
   "outputs": [
    {
     "name": "stdout",
     "output_type": "stream",
     "text": [
      "{}\n"
     ]
    }
   ],
   "source": [
    "# limpiar diccionario\n",
    "diccionario.clear()\n",
    "print(diccionario)"
   ]
  },
  {
   "cell_type": "code",
   "execution_count": 33,
   "metadata": {},
   "outputs": [
    {
     "ename": "NameError",
     "evalue": "name 'diccionario' is not defined",
     "output_type": "error",
     "traceback": [
      "\u001b[1;31m---------------------------------------------------------------------------\u001b[0m",
      "\u001b[1;31mNameError\u001b[0m                                 Traceback (most recent call last)",
      "Cell \u001b[1;32mIn[33], line 3\u001b[0m\n\u001b[0;32m      1\u001b[0m \u001b[38;5;66;03m# eliminar diccionario\u001b[39;00m\n\u001b[0;32m      2\u001b[0m \u001b[38;5;28;01mdel\u001b[39;00m diccionario\n\u001b[1;32m----> 3\u001b[0m \u001b[38;5;28mprint\u001b[39m(\u001b[43mdiccionario\u001b[49m)\n",
      "\u001b[1;31mNameError\u001b[0m: name 'diccionario' is not defined"
     ]
    }
   ],
   "source": [
    "# eliminar diccionario\n",
    "del diccionario\n",
    "print(diccionario)"
   ]
  },
  {
   "cell_type": "markdown",
   "metadata": {},
   "source": [
    "----"
   ]
  },
  {
   "cell_type": "markdown",
   "metadata": {},
   "source": [
    "# Funciones ⚙️🗜️"
   ]
  },
  {
   "cell_type": "markdown",
   "metadata": {},
   "source": [
    "- **Las funciones** son un bloque de código que vamos a llamar ***N*** cantidades de veces.\n",
    "\n",
    "> Las funciones se definen de la siguiente manera."
   ]
  },
  {
   "cell_type": "code",
   "execution_count": 24,
   "metadata": {},
   "outputs": [
    {
     "name": "stdout",
     "output_type": "stream",
     "text": [
      "desde mi funcion\n"
     ]
    }
   ],
   "source": [
    "# definir una función\n",
    "\n",
    "def mi_funcion():\n",
    "\tprint('desde mi funcion')\n",
    "\n",
    "# llamada a la funcion\n",
    "mi_funcion()"
   ]
  },
  {
   "cell_type": "markdown",
   "metadata": {},
   "source": [
    "> #### **Las funciones** reciben tanto ***parámetros*** como ***argumentos***\n",
    "> - **Los parámetros** son las ***variables*** que vamos a declarar dentro de los paréntesis\n",
    "> - **Los argumentos** son los ***valores*** que le vamos a enviar a la función"
   ]
  },
  {
   "cell_type": "code",
   "execution_count": 25,
   "metadata": {},
   "outputs": [
    {
     "name": "stdout",
     "output_type": "stream",
     "text": [
      "\n",
      "\t\t\tNombre: Esteban\n",
      "\t\t\tApellido: Madrid\n",
      "\t\t\tDNI: 34769751\n",
      "\t\t\t\n"
     ]
    }
   ],
   "source": [
    "# le paso los parámetros a mi función\n",
    "def mis_datos(nombre,apellido,dni):\n",
    "\tprint(f'''\n",
    "\t\t\tNombre: {nombre}\n",
    "\t\t\tApellido: {apellido}\n",
    "\t\t\tDNI: {dni}\n",
    "\t\t\t''')\n",
    "\n",
    "# le paso los argumento(valores) a mi función\n",
    "mis_datos('Esteban','Madrid',34769751)"
   ]
  },
  {
   "cell_type": "markdown",
   "metadata": {},
   "source": [
    "> funciones con **return**\n",
    "- La palabra reserva ***return*** me permite devolver el valor de una funcion"
   ]
  },
  {
   "cell_type": "code",
   "execution_count": 3,
   "metadata": {},
   "outputs": [
    {
     "name": "stdout",
     "output_type": "stream",
     "text": [
      "el resultado de la suma es:  7\n"
     ]
    }
   ],
   "source": [
    "#Suma de dos números\n",
    "\n",
    "def sumar(a,b):\n",
    "\treturn a + b\n",
    "\n",
    "# guardo la función en una variable para imprimirla\n",
    "resultado = sumar(5,2)\n",
    "\n",
    "print(f'el resultado de la suma es: ', resultado)"
   ]
  },
  {
   "cell_type": "code",
   "execution_count": 4,
   "metadata": {},
   "outputs": [
    {
     "name": "stdout",
     "output_type": "stream",
     "text": [
      "el resultado de la suma es: 8\n"
     ]
    }
   ],
   "source": [
    "# podemos optar por no usar una variable para guardar el resultado y hacerla directamente en el print de la siguiente manera\n",
    "\n",
    "#Suma de dos números\n",
    "\n",
    "def sumar(a,b):\n",
    "\treturn a + b\n",
    "\n",
    "print(f'el resultado de la suma es: {sumar(5,3)}')"
   ]
  },
  {
   "cell_type": "markdown",
   "metadata": {},
   "source": [
    "> valor por default en los parámetros de una función"
   ]
  },
  {
   "cell_type": "code",
   "execution_count": 7,
   "metadata": {},
   "outputs": [
    {
     "name": "stdout",
     "output_type": "stream",
     "text": [
      "el resultado de la suma por defaul: 3\n",
      "el resultado de la suma sobreescrita: 8\n"
     ]
    }
   ],
   "source": [
    "# le asignamos valores a los parámetros por default\n",
    "\n",
    "def sumar(a=1,b=2):\n",
    "\treturn a + b\n",
    "\n",
    "# imprimimos con los valores por default\n",
    "print(f'el resultado de la suma por defaul: {sumar()}')\n",
    "\n",
    "# en este segundo print cuando pasamos el argumento sobrescribimos el valor por default de la funcion\n",
    "print(f'el resultado de la suma sobrescrita: {sumar(5,3)}')"
   ]
  }
 ],
 "metadata": {
  "kernelspec": {
   "display_name": "Python 3",
   "language": "python",
   "name": "python3"
  },
  "language_info": {
   "codemirror_mode": {
    "name": "ipython",
    "version": 3
   },
   "file_extension": ".py",
   "mimetype": "text/x-python",
   "name": "python",
   "nbconvert_exporter": "python",
   "pygments_lexer": "ipython3",
   "version": "3.12.4"
  }
 },
 "nbformat": 4,
 "nbformat_minor": 2
}
