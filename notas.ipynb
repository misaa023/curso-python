{
 "cells": [
  {
   "cell_type": "markdown",
   "metadata": {},
   "source": [
    "## Práctica python 🐍\n",
    "\n",
    "> prácticas con entrada de usuarios input,sentencia if - else - elif , operadores logicos 🧮\n",
    "- < > \n",
    "- == \n",
    "- != \n",
    "- === \n",
    "- And \n",
    "- Or\n",
    "\n",
    "----"
   ]
  },
  {
   "cell_type": "markdown",
   "metadata": {},
   "source": [
    "## Bucles! ♾️\n",
    "\n",
    "> ### Estructura de while\n",
    "\n",
    "\n",
    "    contador = 1\n",
    "    \n",
    "    while contador >= 10:\n",
    "    \tprint(contador)\n",
    "    \tcontador +=1\n",
    "        \n",
    "- en el caso del while utilizamos una variable contador, la cual vamos a ir incrementandola hasta llegar a 10 y salir del bucle.\n",
    "\n",
    "------------\n",
    "\n",
    "\n"
   ]
  },
  {
   "cell_type": "markdown",
   "metadata": {},
   "source": [
    "> ### Estructura de For\n",
    "\n",
    "\n",
    "\n",
    "    cadena = \"esteban\"\n",
    "    \n",
    "     for letra in cadena:\n",
    "     \tprint(letra)\n",
    "\n",
    "- en el caso del For vamos a declarar una variable que es la que vamos a recorrer, en este caso **letra** seria nuestra variable a recorrer.\n",
    "- tambien utilizamos la palabra **in** para decirle que nuestra variable  **cadena** es la que contiene el valor a recorrer.\n",
    "\n",
    "-----\n"
   ]
  },
  {
   "cell_type": "markdown",
   "metadata": {},
   "source": [
    "## Listas / Array 📃"
   ]
  },
  {
   "cell_type": "markdown",
   "metadata": {},
   "source": [
    "\n",
    "\n",
    "> las listas pueden almacenar varios valores de distintos tipos\n",
    "\n",
    "    lista = ['Esteban', 'Jose', 'Maria', 'Luis',True,False,0,20]\n",
    "\n",
    "\n",
    "> para acceder a un elemento de la lista lo hacemos de la siguiente forma\n",
    "\n",
    "    lista[0]\n",
    "\n",
    ">#### Metodos de Listas\n",
    "> las listas pueden utilizar tanto numero positivos como negativos, los negativos se utilizan para ir del ultimo elemnto al primero\n",
    "\n",
    "\n",
    "- **Largo** de una lista\n",
    "    - el **len()** nos devuelve el numero de elementos de una lista ***len(lista)***\n",
    "    \n",
    "- **Agregar** nuevo elemento a la lista\n",
    "    - el metodo **append()** esto nos permite agregar un nuevo elemento al final de la lista ***lista.append('Carlos')***\n",
    "\n",
    "- **Insertar** un elenmento en una posicion especifica\n",
    "   - el metodo **insert()** esto nos permite insertar un nuevo elemento en una posicion especifica ***lista.insert(1,'Matias')***\n",
    "\n",
    "- **Remover** un elemento de la lista\n",
    "    - el metodo **remove()** esto nos permite eliminar un elemento de la lista ***lista.remove('Matias')***\n",
    "\n",
    "- **Eliminar** el ultimo elemento de la lista\n",
    "    - el metodo **pop()** esto nos permite eliminar el ultimo elemento de la lista ***lista.pop()***\n",
    "\n",
    "- **Eliminar** ***un elemento*** en una posicion especifica\n",
    "    - el metodo **del()** esto nos permite eliminar un elemento en una posicion especifica ***del lista[0]***\n",
    "\n",
    "- **Vaciar** la lista\n",
    "    - el metodo **clear()** esto nos permite vaciar la lista ***lista.clear()***\n",
    "\n",
    "----\n",
    "\n",
    ">#### Rango / Range 🎚️\n",
    "> Sintaxis de **range** (***inicio*** (opcional) , ***fin*** (requerido) , ***incremento*** (opcional))\n",
    "\n",
    "- **La iteracion de rango** se puede utilizar tanto con una lista declarada o utilizando el metodo ***range(numero)*** pasandole un numero\n",
    "    - **Ejemplo de iteracion con el metodo range con su sintaxis**\n"
   ]
  },
  {
   "cell_type": "code",
   "execution_count": null,
   "metadata": {},
   "outputs": [],
   "source": [
    "# ! iterar un rango de 0 a 10 e imprimir los numeros divisible entre 3\n",
    "for i in range(11):\n",
    "\tif i % 3 == 0:\n",
    "\t\tprint(i)"
   ]
  },
  {
   "cell_type": "code",
   "execution_count": null,
   "metadata": {},
   "outputs": [],
   "source": [
    "# ! crear un rango de numeros de 2 a 6 , e imprimirlos almacenando en una variable\n",
    "rango = range(2,7)\n",
    "\n",
    "for i in rango:\n",
    "\tprint(i)"
   ]
  },
  {
   "cell_type": "code",
   "execution_count": null,
   "metadata": {},
   "outputs": [],
   "source": [
    "#! crear un rango de 3 a 10, pero con incremento de 2 en 2, en lugar de 1 en 1 tambien podemos hacerlo con una varible\n",
    "rango = range(3,11,2)\n",
    "\n",
    "for i in rango:\n",
    "\tprint(i)"
   ]
  },
  {
   "cell_type": "markdown",
   "metadata": {},
   "source": [
    "- **Para acceder al rango** de una lista lo hacemos de la siguiente forma ***lista[0:3]*** sin incluir el 3 \n",
    "    - tambien se puede utilizar de esta forma ***lista[:3]*** que arranque del indice 0 al 3 sin incluirlo \n",
    "    - tambien puede utilizarce del indice indicado al final ***lista[2:]***\n",
    "    - **Ejemplo de rango con una lista**"
   ]
  },
  {
   "cell_type": "code",
   "execution_count": null,
   "metadata": {},
   "outputs": [],
   "source": [
    "# con interacion\n",
    "listas = [1, 2, 3, 4, 5, 6, 7, 8, 9, 10]\n",
    "\n",
    "for lista in listas:\n",
    "\tprint(f'El valor de la lista es: {lista}')\n",
    "\n",
    "# sin interacion\n",
    "\n",
    "print(f'el rango de la lista es: {listas[0:6]}')\n",
    "\n"
   ]
  }
 ],
 "metadata": {
  "kernelspec": {
   "display_name": "Python 3",
   "language": "python",
   "name": "python3"
  },
  "language_info": {
   "codemirror_mode": {
    "name": "ipython",
    "version": 3
   },
   "file_extension": ".py",
   "mimetype": "text/x-python",
   "name": "python",
   "nbconvert_exporter": "python",
   "pygments_lexer": "ipython3",
   "version": "3.12.4"
  }
 },
 "nbformat": 4,
 "nbformat_minor": 2
}
